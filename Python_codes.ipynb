{
  "nbformat": 4,
  "nbformat_minor": 0,
  "metadata": {
    "colab": {
      "provenance": [],
      "authorship_tag": "ABX9TyNQelnF78wm5/NAC1i4M58H",
      "include_colab_link": true
    },
    "kernelspec": {
      "name": "python3",
      "display_name": "Python 3"
    },
    "language_info": {
      "name": "python"
    }
  },
  "cells": [
    {
      "cell_type": "markdown",
      "metadata": {
        "id": "view-in-github",
        "colab_type": "text"
      },
      "source": [
        "<a href=\"https://colab.research.google.com/github/sindhu-taripireddy/python/blob/main/Python_codes.ipynb\" target=\"_parent\"><img src=\"https://colab.research.google.com/assets/colab-badge.svg\" alt=\"Open In Colab\"/></a>"
      ]
    },
    {
      "cell_type": "code",
      "execution_count": null,
      "metadata": {
        "colab": {
          "base_uri": "https://localhost:8080/"
        },
        "id": "MKqgXtsImKmk",
        "outputId": "c16934b1-8459-4433-ef23-e80e95d46ba1"
      },
      "outputs": [
        {
          "output_type": "stream",
          "name": "stdout",
          "text": [
            "hello,world\n"
          ]
        }
      ],
      "source": [
        "print(\"hello,world\")"
      ]
    },
    {
      "cell_type": "code",
      "source": [
        "a=int(input())\n",
        "b=int(input())\n",
        "print(a+b)"
      ],
      "metadata": {
        "colab": {
          "base_uri": "https://localhost:8080/"
        },
        "id": "OwVVyY4DmZve",
        "outputId": "260ad929-510c-4956-9897-af7a5b5ca891"
      },
      "execution_count": null,
      "outputs": [
        {
          "output_type": "stream",
          "name": "stdout",
          "text": [
            "7\n",
            "4\n",
            "11\n"
          ]
        }
      ]
    },
    {
      "cell_type": "code",
      "source": [
        "a,b=(6,3)\n",
        "print(a+b)"
      ],
      "metadata": {
        "colab": {
          "base_uri": "https://localhost:8080/"
        },
        "id": "-Ge_N5BJoBEG",
        "outputId": "2a08de98-6754-4bb3-c920-1864e97c84ea"
      },
      "execution_count": null,
      "outputs": [
        {
          "output_type": "stream",
          "name": "stdout",
          "text": [
            "9\n"
          ]
        }
      ]
    },
    {
      "cell_type": "code",
      "source": [
        "a=int(input())\n",
        "sqr_root=a**0.5\n",
        "print(sqr_root)"
      ],
      "metadata": {
        "colab": {
          "base_uri": "https://localhost:8080/"
        },
        "id": "Z78Hf0TioH23",
        "outputId": "18308cfb-6139-4457-89a6-6cb639f5ace3"
      },
      "execution_count": null,
      "outputs": [
        {
          "output_type": "stream",
          "name": "stdout",
          "text": [
            "5\n",
            "2.23606797749979\n"
          ]
        }
      ]
    },
    {
      "cell_type": "code",
      "source": [
        "num=int(input())\n",
        "num_sqr=num**0.5\n",
        "print(num_sqr)"
      ],
      "metadata": {
        "colab": {
          "base_uri": "https://localhost:8080/"
        },
        "id": "1GtwOB5YpJpO",
        "outputId": "8684b887-d0dc-41a5-d84a-12602320e583"
      },
      "execution_count": null,
      "outputs": [
        {
          "output_type": "stream",
          "name": "stdout",
          "text": [
            "2\n",
            "1.4142135623730951\n"
          ]
        }
      ]
    },
    {
      "cell_type": "code",
      "source": [
        "a=int(input())\n",
        "cube_root=a**0.3\n",
        "print(cube_root)"
      ],
      "metadata": {
        "colab": {
          "base_uri": "https://localhost:8080/"
        },
        "id": "HEGXeywPpw95",
        "outputId": "03ee422a-27c2-4bb1-8b03-3d6bd46e92b8"
      },
      "execution_count": null,
      "outputs": [
        {
          "output_type": "stream",
          "name": "stdout",
          "text": [
            "6\n",
            "1.711769859409705\n"
          ]
        }
      ]
    },
    {
      "cell_type": "code",
      "source": [
        "a=int(input())\n",
        "b=int(input())\n",
        "area=0.5*a+b\n",
        "print(\"area of triangle\",area)"
      ],
      "metadata": {
        "colab": {
          "base_uri": "https://localhost:8080/"
        },
        "id": "vDwD0bbNqq0q",
        "outputId": "0e920a1f-26ff-4ecd-d03a-e4547835f80a"
      },
      "execution_count": null,
      "outputs": [
        {
          "output_type": "stream",
          "name": "stdout",
          "text": [
            "2\n",
            "6\n",
            "area of triangle 7.0\n"
          ]
        }
      ]
    },
    {
      "cell_type": "code",
      "source": [
        "a=int(input())\n",
        "b=int(input())\n",
        "c=int(input())\n",
        "s=(a+b+c/2)\n",
        "area=(s*(s-a)*(s-b)*(s-c))*0.5\n",
        "print(area)"
      ],
      "metadata": {
        "id": "KmHuvuairo60",
        "colab": {
          "base_uri": "https://localhost:8080/"
        },
        "outputId": "266a2ae2-373f-45eb-c667-60d321253eb1"
      },
      "execution_count": null,
      "outputs": [
        {
          "output_type": "stream",
          "name": "stdout",
          "text": [
            "2\n",
            "3\n",
            "4\n",
            "210.0\n"
          ]
        }
      ]
    },
    {
      "cell_type": "code",
      "source": [
        "import cmath\n",
        "a=int(input())\n",
        "b=int(input())\n",
        "c=int(input())\n",
        "d=b**2-4*a*c\n",
        "sol1=(-b-cmath.sqrt(d))/(2*a)\n",
        "sol2=(-b+cmath.sqrt(d))/(2*a)\n",
        "print(sol1)\n",
        "print(sol2)"
      ],
      "metadata": {
        "colab": {
          "base_uri": "https://localhost:8080/"
        },
        "id": "rNsomVdEtSbI",
        "outputId": "37504ed0-c62d-4d67-91ba-53ee65600667"
      },
      "execution_count": null,
      "outputs": [
        {
          "output_type": "stream",
          "name": "stdout",
          "text": [
            "5\n",
            "7\n",
            "3\n",
            "(-0.7-0.33166247903553997j)\n",
            "(-0.7+0.33166247903553997j)\n"
          ]
        }
      ]
    },
    {
      "cell_type": "code",
      "source": [
        "a=int(input())\n",
        "b=int(input())\n",
        "a,b=b,a\n",
        "print(a,b)"
      ],
      "metadata": {
        "colab": {
          "base_uri": "https://localhost:8080/"
        },
        "id": "Eettgfn6xkgZ",
        "outputId": "ebaba1c3-27d9-4c85-ff4c-634615dee484"
      },
      "execution_count": null,
      "outputs": [
        {
          "output_type": "stream",
          "name": "stdout",
          "text": [
            "5\n",
            "7\n",
            "7 5\n"
          ]
        }
      ]
    },
    {
      "cell_type": "code",
      "source": [
        "a=int(input())\n",
        "b=int(input())\n",
        "temp=a\n",
        "a=b\n",
        "temp=b\n",
        "b=a\n",
        "print(b,a)"
      ],
      "metadata": {
        "colab": {
          "base_uri": "https://localhost:8080/"
        },
        "id": "VgfcqITnzUHN",
        "outputId": "9ad2b9ea-bb09-484d-e6f2-511dac3b597b"
      },
      "execution_count": null,
      "outputs": [
        {
          "output_type": "stream",
          "name": "stdout",
          "text": [
            "6\n",
            "7\n",
            "7 7\n"
          ]
        }
      ]
    },
    {
      "cell_type": "code",
      "source": [
        "import random\n",
        "print(random.randint(7,16))"
      ],
      "metadata": {
        "colab": {
          "base_uri": "https://localhost:8080/"
        },
        "id": "oyK5J9Wb0_uf",
        "outputId": "1ffeded9-d5d3-49c5-84c8-c3dfe586b4ae"
      },
      "execution_count": null,
      "outputs": [
        {
          "output_type": "stream",
          "name": "stdout",
          "text": [
            "13\n"
          ]
        }
      ]
    },
    {
      "cell_type": "code",
      "source": [
        "Kilometre to miles:1km=0.62137"
      ],
      "metadata": {
        "id": "0fa8Hp4EsXpf"
      },
      "execution_count": null,
      "outputs": []
    },
    {
      "cell_type": "code",
      "source": [
        "km=int(input())\n",
        "conv_fac=0.62137\n",
        "miles=km*conv_fac\n",
        "print(miles)"
      ],
      "metadata": {
        "colab": {
          "base_uri": "https://localhost:8080/"
        },
        "id": "Iaf8iNV9qQZ2",
        "outputId": "2466bf15-594a-4d82-a169-13e59ad41ac1"
      },
      "execution_count": null,
      "outputs": [
        {
          "output_type": "stream",
          "name": "stdout",
          "text": [
            "4\n",
            "2.48548\n"
          ]
        }
      ]
    },
    {
      "cell_type": "markdown",
      "source": [
        "Celsius to fahrenheit\n",
        "(1 celsius=1.8fahrenheit) And the freezing water is 32"
      ],
      "metadata": {
        "id": "hwFNFatx1viv"
      }
    },
    {
      "cell_type": "code",
      "source": [
        "\n",
        "\n",
        "celsius=int(input())\n",
        "fahrenheit=(celsius*1.8)+32\n",
        "print(fahrenheit)"
      ],
      "metadata": {
        "colab": {
          "base_uri": "https://localhost:8080/"
        },
        "id": "a9wf5fkysFPd",
        "outputId": "cf5e2515-43a9-4054-e81e-4d8bb3b8cc73"
      },
      "execution_count": null,
      "outputs": [
        {
          "output_type": "stream",
          "name": "stdout",
          "text": [
            "6\n",
            "42.8\n"
          ]
        }
      ]
    },
    {
      "cell_type": "code",
      "source": [
        "\n",
        "\n",
        "num=float(input())\n",
        "if num>0:\n",
        "   print(\"positive\")\n",
        "elif num==0:\n",
        "   print(\"zero\")\n",
        "else:\n",
        "   print(\"negative\")"
      ],
      "metadata": {
        "colab": {
          "base_uri": "https://localhost:8080/"
        },
        "id": "2EurJXY_tnpD",
        "outputId": "704d042d-ce95-43ec-9988-73d0cc494903"
      },
      "execution_count": null,
      "outputs": [
        {
          "output_type": "stream",
          "name": "stdout",
          "text": [
            "4\n",
            "positive\n"
          ]
        }
      ]
    },
    {
      "cell_type": "markdown",
      "source": [
        "Num even or odd"
      ],
      "metadata": {
        "id": "WCqHMtrHwaQf"
      }
    },
    {
      "cell_type": "code",
      "source": [
        "num=int(input())\n",
        "if num%2==0:\n",
        "   print(\"even\")\n",
        "else:\n",
        "   print(\"odd\")"
      ],
      "metadata": {
        "colab": {
          "base_uri": "https://localhost:8080/"
        },
        "id": "Pt121Jx1uzU3",
        "outputId": "370d20d6-fb9b-41f4-be03-760307296f79"
      },
      "execution_count": null,
      "outputs": [
        {
          "output_type": "stream",
          "name": "stdout",
          "text": [
            "5\n",
            "odd\n"
          ]
        }
      ]
    },
    {
      "cell_type": "markdown",
      "source": [
        "leap year"
      ],
      "metadata": {
        "id": "h-LIKAYixCqu"
      }
    },
    {
      "cell_type": "code",
      "source": [
        "year=int(input())\n",
        "if(year%400==0)or((year%4==0)and(year%100!=0)):\n",
        "  print(\"leap year\")\n",
        "else:\n",
        "  print(\"not leap year\")"
      ],
      "metadata": {
        "colab": {
          "base_uri": "https://localhost:8080/"
        },
        "id": "H4IVAZklxI34",
        "outputId": "643b0dc1-8bfb-4764-c800-004530e02081"
      },
      "execution_count": null,
      "outputs": [
        {
          "output_type": "stream",
          "name": "stdout",
          "text": [
            "2027\n",
            "not leap year\n"
          ]
        }
      ]
    },
    {
      "cell_type": "code",
      "source": [
        "#largest among three\n",
        "a=int(input())\n",
        "b=int(input())\n",
        "c=int(input())\n",
        "if a>=b and a>=c:\n",
        "   print(a)\n",
        "elif b>=a and b>=c:\n",
        "   print(b)\n",
        "else:\n",
        "   print(c)"
      ],
      "metadata": {
        "colab": {
          "base_uri": "https://localhost:8080/"
        },
        "id": "3fJL_ifJyrg4",
        "outputId": "ee6b9d85-6790-47a7-e35d-963fc4668963"
      },
      "execution_count": null,
      "outputs": [
        {
          "output_type": "stream",
          "name": "stdout",
          "text": [
            "2\n",
            "3\n",
            "9\n",
            "9\n"
          ]
        }
      ]
    },
    {
      "cell_type": "code",
      "source": [
        "#prime number or not\n",
        "a=int(input())\n",
        "if a%2!=0 and a//a==1:\n",
        "   Print(\"prime\")\n",
        "else:\n",
        "   print(\"not prime\")"
      ],
      "metadata": {
        "colab": {
          "base_uri": "https://localhost:8080/"
        },
        "id": "36BYfsOR0sBF",
        "outputId": "9f11a26c-64cf-4b26-f1ea-a6b5df3348a7"
      },
      "execution_count": null,
      "outputs": [
        {
          "output_type": "stream",
          "name": "stdout",
          "text": [
            "6\n",
            "not prime\n"
          ]
        }
      ]
    }
  ]
}